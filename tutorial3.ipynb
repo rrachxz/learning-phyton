{
  "nbformat": 4,
  "nbformat_minor": 0,
  "metadata": {
    "colab": {
      "provenance": [],
      "authorship_tag": "ABX9TyMAreDawD5sQSBORlWP/Jk+",
      "include_colab_link": true
    },
    "kernelspec": {
      "name": "python3",
      "display_name": "Python 3"
    },
    "language_info": {
      "name": "python"
    }
  },
  "cells": [
    {
      "cell_type": "markdown",
      "metadata": {
        "id": "view-in-github",
        "colab_type": "text"
      },
      "source": [
        "<a href=\"https://colab.research.google.com/github/rrachxz/learning-phyton/blob/library%2Fnumpy/tutorial3.ipynb\" target=\"_parent\"><img src=\"https://colab.research.google.com/assets/colab-badge.svg\" alt=\"Open In Colab\"/></a>"
      ]
    },
    {
      "cell_type": "code",
      "execution_count": 10,
      "metadata": {
        "id": "_bWivmoGxv_c"
      },
      "outputs": [],
      "source": [
        "import numpy as np\n",
        "import pandas as pd"
      ]
    },
    {
      "cell_type": "code",
      "source": [
        "# task 1\n",
        "array = np.array([[0, 3], [2, 5]])\n",
        "print(array.shape)"
      ],
      "metadata": {
        "colab": {
          "base_uri": "https://localhost:8080/"
        },
        "id": "zZ6We7P8yFIO",
        "outputId": "5ca771ff-06f3-483a-a53b-d8ffa7b3fde4"
      },
      "execution_count": 16,
      "outputs": [
        {
          "output_type": "stream",
          "name": "stdout",
          "text": [
            "(2, 2)\n"
          ]
        }
      ]
    },
    {
      "cell_type": "code",
      "source": [
        "# task 2\n",
        "np.random.seed(0)\n",
        "x = np.random.randint(8, size=(3, 4))\n",
        "print(x)"
      ],
      "metadata": {
        "colab": {
          "base_uri": "https://localhost:8080/"
        },
        "id": "-pDrhSSF1kPu",
        "outputId": "05e43b8e-751c-4baf-cafa-cc960bfd65ef"
      },
      "execution_count": 17,
      "outputs": [
        {
          "output_type": "stream",
          "name": "stdout",
          "text": [
            "[[4 7 5 0]\n",
            " [3 3 3 7]\n",
            " [1 3 5 2]]\n"
          ]
        }
      ]
    },
    {
      "cell_type": "code",
      "source": [
        "# task 3\n",
        "x = np.ones((3, 3))\n",
        "y = np.zeros((3, 3))\n",
        "print(x, y)"
      ],
      "metadata": {
        "colab": {
          "base_uri": "https://localhost:8080/"
        },
        "id": "qIYqwo275uyO",
        "outputId": "20c85929-dd54-42ab-eddb-6eda2552b5e1"
      },
      "execution_count": 30,
      "outputs": [
        {
          "output_type": "stream",
          "name": "stdout",
          "text": [
            "[[1. 1. 1.]\n",
            " [1. 1. 1.]\n",
            " [1. 1. 1.]] [[0. 0. 0.]\n",
            " [0. 0. 0.]\n",
            " [0. 0. 0.]]\n"
          ]
        }
      ]
    },
    {
      "cell_type": "code",
      "source": [
        "# task 4\n",
        "np.random.seed(0)\n",
        "x = np.random.randint(10, size=(6, 3))\n",
        "print(x.T)"
      ],
      "metadata": {
        "colab": {
          "base_uri": "https://localhost:8080/"
        },
        "id": "9vxyqPAn97Pe",
        "outputId": "16b27a9f-e290-412c-92ba-49f89b7e731d"
      },
      "execution_count": 32,
      "outputs": [
        {
          "output_type": "stream",
          "name": "stdout",
          "text": [
            "[[8 9 4 3 2 1]\n",
            " [1 8 3 5 3 3]\n",
            " [5 9 0 0 8 3]]\n"
          ]
        }
      ]
    },
    {
      "cell_type": "code",
      "source": [
        "# task 5\n",
        "np.random.seed(0)\n",
        "n = np.random.randint(1, 10)\n",
        "p = np.random.randint(1, 10)\n",
        "m = np.random.randint(1, 10)\n",
        "x = np.random.randint(10, size=(n, p))\n",
        "y = np.random.randint(10, size=(p, m))\n",
        "print(x.dot(y))\n",
        "\n",
        "# i have finished the tasks"
      ],
      "metadata": {
        "colab": {
          "base_uri": "https://localhost:8080/"
        },
        "id": "2pLR0QaSo39L",
        "outputId": "fbdc7e9c-b0d2-4cb0-9928-587e642f9f6c"
      },
      "execution_count": 13,
      "outputs": [
        {
          "output_type": "stream",
          "name": "stdout",
          "text": [
            "[[12 21 18 24]\n",
            " [28 49 42 56]\n",
            " [36 63 54 72]\n",
            " [12 21 18 24]\n",
            " [20 35 30 40]\n",
            " [ 8 14 12 16]]\n"
          ]
        }
      ]
    }
  ]
}