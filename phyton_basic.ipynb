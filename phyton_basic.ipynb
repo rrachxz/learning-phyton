{
  "nbformat": 4,
  "nbformat_minor": 0,
  "metadata": {
    "colab": {
      "provenance": [],
      "authorship_tag": "ABX9TyPMkNHPwLpJHlIpPW7uioSk",
      "include_colab_link": true
    },
    "kernelspec": {
      "name": "python3",
      "display_name": "Python 3"
    },
    "language_info": {
      "name": "python"
    }
  },
  "cells": [
    {
      "cell_type": "markdown",
      "metadata": {
        "id": "view-in-github",
        "colab_type": "text"
      },
      "source": [
        "<a href=\"https://colab.research.google.com/github/rrachxz/learning-phyton/blob/main/phyton_basic.ipynb\" target=\"_parent\"><img src=\"https://colab.research.google.com/assets/colab-badge.svg\" alt=\"Open In Colab\"/></a>"
      ]
    },
    {
      "cell_type": "code",
      "execution_count": null,
      "metadata": {
        "colab": {
          "base_uri": "https://localhost:8080/"
        },
        "id": "vThmqhld5VJK",
        "outputId": "3822ee20-a962-460b-8138-13785212c154"
      },
      "outputs": [
        {
          "output_type": "stream",
          "name": "stdout",
          "text": [
            "hello googla colab\n"
          ]
        }
      ],
      "source": [
        "print(\"hello googla colab\")"
      ]
    },
    {
      "cell_type": "code",
      "source": [
        "x = 5\n",
        "y = 10\n",
        "print(\"hello this is\" ,x + y)"
      ],
      "metadata": {
        "colab": {
          "base_uri": "https://localhost:8080/"
        },
        "id": "svtuULeTNRyb",
        "outputId": "014885e6-7cef-4cce-df15-ca7623ad62ae"
      },
      "execution_count": 2,
      "outputs": [
        {
          "output_type": "stream",
          "name": "stdout",
          "text": [
            "15\n"
          ]
        }
      ]
    },
    {
      "cell_type": "code",
      "source": [
        "me = \"programmer\"\n",
        "print(\"helo im a \", me)"
      ],
      "metadata": {
        "colab": {
          "base_uri": "https://localhost:8080/"
        },
        "id": "3964FUrtN4oo",
        "outputId": "f461b75f-1ad9-4316-d4c5-ab25deeb6076"
      },
      "execution_count": 5,
      "outputs": [
        {
          "output_type": "stream",
          "name": "stdout",
          "text": [
            "helo im a  programmer\n"
          ]
        }
      ]
    },
    {
      "cell_type": "code",
      "source": [
        "ate = 8.0\n",
        "print(\"8 is fate go !! \", ate)"
      ],
      "metadata": {
        "colab": {
          "base_uri": "https://localhost:8080/"
        },
        "id": "jCQpfDIFO5o4",
        "outputId": "0bc0a6cb-8512-42cf-9e4e-75d4b5ebedb6"
      },
      "execution_count": 6,
      "outputs": [
        {
          "output_type": "stream",
          "name": "stdout",
          "text": [
            "8 is fate go !!  8.0\n"
          ]
        }
      ]
    }
  ]
}